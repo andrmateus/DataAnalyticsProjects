{
  "nbformat": 4,
  "nbformat_minor": 0,
  "metadata": {
    "colab": {
      "provenance": [],
      "collapsed_sections": [
        "t6V2mozZRWb9",
        "IV5qM6NAQCYh",
        "Mc23m3hEP5Uc",
        "VcnwabtQQ7Ew",
        "JzIMGaZyRefF",
        "yktfzyXYRqnL"
      ],
      "toc_visible": true
    },
    "kernelspec": {
      "name": "python3",
      "display_name": "Python 3"
    },
    "language_info": {
      "name": "python"
    }
  },
  "cells": [
    {
      "cell_type": "markdown",
      "source": [
        "# Ranking Softwares\n",
        "\n",
        "Analise voltada a localizar quais softwares mais apontados durante a aberturas de chamado nas subcategorias de `Softwares/Aplicações` dos chamados abertos no GLPI.\n",
        "\n",
        "Nome do arquivo fonte: `chamados.xlsx`\n",
        "\n",
        "A base utilizada foi obtida usando o sql abaixo\n",
        "\n",
        "```sql\n",
        "select\n",
        "\t*\n",
        "from\n",
        "\tglpi_tickets a\n",
        "where\n",
        "\ta.itilcategories_id in (5293, 5294, 5295, 5296, 5297, 5298, 5299) -- ids das categorias sob Software/Aplicacoes\n",
        "  and a.is_deleted = 0\n",
        "```\n",
        "\n",
        "\n",
        "Para obter os Ids das categorias sob `Software/Aplicações` foi utilizado o seguinte SQL:\n",
        "\n",
        "```sql\n",
        "SELECT\n",
        "    a.id `itilcategories_id`,\n",
        "\ta.completename `itilcategorie`,\n",
        "    CASE WHEN a.level = 5 THEN a.name\n",
        "\t\t ELSE NULL END AS 'Categoria.n5',\n",
        "    CASE WHEN a.level = 4 THEN a.name\n",
        "\t\t WHEN a.level = 5 THEN b.name\n",
        "         ELSE NULL END AS 'Categoria.n4',\n",
        "    CASE WHEN a.level = 3 THEN a.name\n",
        "         WHEN a.level = 4 THEN b.name\n",
        "         WHEN a.level = 5 THEN c.name\n",
        "         ELSE NULL END AS 'Categoria.n3',\n",
        "    CASE WHEN a.level = 2 THEN a.name\n",
        "         WHEN a.level = 3 THEN b.name\n",
        "         when a.level = 4 then c.name\n",
        "         when a.level = 5 then d.name\n",
        "         ELSE NULL END AS 'Categoria.n2',\n",
        "    CASE WHEN a.level = 1 THEN a.name\n",
        "         WHEN a.level = 2 THEN b.name\n",
        "         WHEN a.level = 3 THEN c.name\n",
        "         WHEN a.level = 4 THEN d.name\n",
        "         WHEN a.level = 5 THEN e.name\n",
        "         ELSE NULL END AS 'Categoria.n1'\n",
        "FROM\n",
        "    glpi_itilcategories a\n",
        "\tLEFT JOIN glpi_itilcategories b ON a.itilcategories_id = b.id\n",
        "\tLEFT JOIN glpi_itilcategories c ON b.itilcategories_id = c.id\n",
        "\tLEFT JOIN glpi_itilcategories d ON c.itilcategories_id = d.id\n",
        "\tLEFT JOIN glpi_itilcategories e ON d.itilcategories_id = e.id\n",
        "where\n",
        "\ta.completename like '%Software/Aplicações%'\n",
        "```"
      ],
      "metadata": {
        "id": "Xdzm5AGmN9Mt"
      }
    },
    {
      "cell_type": "markdown",
      "source": [
        "#### Importar Bibliotecas"
      ],
      "metadata": {
        "id": "t6V2mozZRWb9"
      }
    },
    {
      "cell_type": "code",
      "execution_count": null,
      "metadata": {
        "id": "VUcfREARcDdr"
      },
      "outputs": [],
      "source": [
        "import pandas as pd\n",
        "import seaborn as sns\n",
        "import matplotlib.pyplot as plt\n",
        "import numpy as np"
      ]
    },
    {
      "cell_type": "markdown",
      "source": [
        "#### Funções de Apoio"
      ],
      "metadata": {
        "id": "IV5qM6NAQCYh"
      }
    },
    {
      "cell_type": "code",
      "source": [
        "def cut_content(content):\n",
        "    if 'Qual o Software? : </b>' not in content:\n",
        "        return None\n",
        "    return content.split('Qual o Software? : </b>')[1].split('</div><div><b>')[0]\n",
        "\n",
        "def set_quarter_ref(year, quarter):\n",
        "    return f\"{year}-{quarter}\""
      ],
      "metadata": {
        "id": "yrNBtHVJeZbx"
      },
      "execution_count": null,
      "outputs": []
    },
    {
      "cell_type": "markdown",
      "source": [
        "#### Carregando o DataSet"
      ],
      "metadata": {
        "id": "Mc23m3hEP5Uc"
      }
    },
    {
      "cell_type": "code",
      "source": [
        "df = pd.read_excel('chamados.xlsx')"
      ],
      "metadata": {
        "id": "OqtAafkldxaI"
      },
      "execution_count": null,
      "outputs": []
    },
    {
      "cell_type": "markdown",
      "source": [
        "#### Tratando tabela carregada"
      ],
      "metadata": {
        "id": "VcnwabtQQ7Ew"
      }
    },
    {
      "cell_type": "code",
      "source": [
        "df.date = df.date.apply(pd.to_datetime)\n",
        "df['software'] = df.content.apply(cut_content)\n",
        "df['month_ref'] = df.date.dt.strftime('%Y-%m')\n",
        "df['year_ref'] = df.date.dt.year\n",
        "df['quarter_ref'] = df.date.dt.quarter\n",
        "df['quarter_ref'] = df.apply(lambda x: set_quarter_ref(x.year_ref, x.quarter_ref), axis=1)\n",
        "df.head()"
      ],
      "metadata": {
        "id": "yEobUicFg1bL"
      },
      "execution_count": null,
      "outputs": []
    },
    {
      "cell_type": "markdown",
      "source": [
        "#### Agrupando por software e quadrimestre"
      ],
      "metadata": {
        "id": "JzIMGaZyRefF"
      }
    },
    {
      "cell_type": "code",
      "source": [
        "softwares_quarters = df.groupby(by=['software', 'quarter_ref']).size().reset_index(name='count')\n",
        "quarters_order = softwares_quarters.quarter_ref.unique()\n",
        "quarters_order.sort()\n",
        "quarters_order"
      ],
      "metadata": {
        "id": "8PJIy1hixMvm"
      },
      "execution_count": null,
      "outputs": []
    },
    {
      "cell_type": "markdown",
      "source": [
        "#### Plotando os graficos para exploracao"
      ],
      "metadata": {
        "id": "yktfzyXYRqnL"
      }
    },
    {
      "cell_type": "code",
      "source": [
        "g = sns.FacetGrid(softwares_quarters, col='software', col_wrap=2, height=2, aspect=4)\n",
        "g.map(sns.pointplot, 'quarter_ref', 'count', order=quarters_order)"
      ],
      "metadata": {
        "id": "ZPzfnsY9e4Vv"
      },
      "execution_count": null,
      "outputs": []
    },
    {
      "cell_type": "markdown",
      "source": [
        "#### Validar softwares mais frequentes\n",
        "\n",
        "Apontando os softwares mais frequentes durante os quadrimestres e plotando para validar o resultado"
      ],
      "metadata": {
        "id": "QR5cbwGNR1Es"
      }
    },
    {
      "cell_type": "code",
      "source": [
        "## Ranking softwares e instalacao\n",
        "quarters_count = softwares_quarters.groupby('software').count()\n",
        "\n",
        "frequent_softwares = quarters_count.query('quarter_ref==8').index.to_list()"
      ],
      "metadata": {
        "id": "lPFPbz9equiW"
      },
      "execution_count": null,
      "outputs": []
    },
    {
      "cell_type": "code",
      "source": [
        "g = sns.FacetGrid(softwares_quarters.query(f'software in {frequent_softwares}'), col='software', col_wrap=2, height=2, aspect=4)\n",
        "g.map(sns.pointplot, 'quarter_ref', 'count', order=quarters_order)"
      ],
      "metadata": {
        "id": "V6-Y-7zSZvsi"
      },
      "execution_count": null,
      "outputs": []
    },
    {
      "cell_type": "markdown",
      "source": [
        "#### Exportar Resultado\n",
        "\n",
        "Exportando para o arquivo `ranking_softwares.xlsx.`"
      ],
      "metadata": {
        "id": "QQfhfz2qcY3v"
      }
    },
    {
      "cell_type": "code",
      "source": [
        "softwares_most_frequent_count = df.query(f'software in {frequent_softwares}').software.value_counts().reset_index(name = 'count')\n",
        "softwares_most_frequent_count.to_excel('ranking_softwares.xlsx', index=False)"
      ],
      "metadata": {
        "id": "GrHGEQxKaYBG"
      },
      "execution_count": null,
      "outputs": []
    }
  ]
}